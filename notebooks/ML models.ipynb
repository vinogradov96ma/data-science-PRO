{
 "cells": [
  {
   "cell_type": "code",
   "execution_count": 1,
   "id": "3d8b3d78",
   "metadata": {},
   "outputs": [],
   "source": [
    "import pandas as pd\n",
    "import numpy as np"
   ]
  },
  {
   "cell_type": "code",
   "execution_count": 2,
   "id": "42b0cd05",
   "metadata": {},
   "outputs": [],
   "source": [
    "from sklearn.metrics import mean_absolute_error, mean_squared_error\n",
    "from sklearn.model_selection import train_test_split\n",
    "from sklearn.preprocessing import MinMaxScaler\n",
    "from sklearn.linear_model import LinearRegression\n",
    "from sklearn.ensemble import RandomForestRegressor, GradientBoostingRegressor\n",
    "from sklearn.model_selection import GridSearchCV\n",
    "from sklearn.neighbors import KNeighborsRegressor\n",
    "from sklearn.svm import SVR"
   ]
  },
  {
   "cell_type": "code",
   "execution_count": 3,
   "id": "9972d681",
   "metadata": {},
   "outputs": [
    {
     "data": {
      "text/html": [
       "<div>\n",
       "<style scoped>\n",
       "    .dataframe tbody tr th:only-of-type {\n",
       "        vertical-align: middle;\n",
       "    }\n",
       "\n",
       "    .dataframe tbody tr th {\n",
       "        vertical-align: top;\n",
       "    }\n",
       "\n",
       "    .dataframe thead th {\n",
       "        text-align: right;\n",
       "    }\n",
       "</style>\n",
       "<table border=\"1\" class=\"dataframe\">\n",
       "  <thead>\n",
       "    <tr style=\"text-align: right;\">\n",
       "      <th></th>\n",
       "      <th>Соотношение матрица-наполнитель</th>\n",
       "      <th>Плотность, кг/м3</th>\n",
       "      <th>модуль упругости, ГПа</th>\n",
       "      <th>Количество отвердителя, м.%</th>\n",
       "      <th>Содержание эпоксидных групп,%_2</th>\n",
       "      <th>Температура вспышки, С_2</th>\n",
       "      <th>Поверхностная плотность, г/м2</th>\n",
       "      <th>Модуль упругости при растяжении, ГПа</th>\n",
       "      <th>Прочность при растяжении, МПа</th>\n",
       "      <th>Потребление смолы, г/м2</th>\n",
       "      <th>Угол нашивки, град</th>\n",
       "      <th>Шаг нашивки</th>\n",
       "      <th>Плотность нашивки</th>\n",
       "    </tr>\n",
       "  </thead>\n",
       "  <tbody>\n",
       "    <tr>\n",
       "      <th>1</th>\n",
       "      <td>1.857143</td>\n",
       "      <td>2030.0</td>\n",
       "      <td>738.736842</td>\n",
       "      <td>50.00</td>\n",
       "      <td>23.750000</td>\n",
       "      <td>284.615385</td>\n",
       "      <td>210.0</td>\n",
       "      <td>70.0</td>\n",
       "      <td>3000.0</td>\n",
       "      <td>220.0</td>\n",
       "      <td>0.0</td>\n",
       "      <td>4.0</td>\n",
       "      <td>60.0</td>\n",
       "    </tr>\n",
       "    <tr>\n",
       "      <th>3</th>\n",
       "      <td>1.857143</td>\n",
       "      <td>2030.0</td>\n",
       "      <td>738.736842</td>\n",
       "      <td>129.00</td>\n",
       "      <td>21.250000</td>\n",
       "      <td>300.000000</td>\n",
       "      <td>210.0</td>\n",
       "      <td>70.0</td>\n",
       "      <td>3000.0</td>\n",
       "      <td>220.0</td>\n",
       "      <td>0.0</td>\n",
       "      <td>5.0</td>\n",
       "      <td>47.0</td>\n",
       "    </tr>\n",
       "    <tr>\n",
       "      <th>4</th>\n",
       "      <td>2.771331</td>\n",
       "      <td>2030.0</td>\n",
       "      <td>753.000000</td>\n",
       "      <td>111.86</td>\n",
       "      <td>22.267857</td>\n",
       "      <td>284.615385</td>\n",
       "      <td>210.0</td>\n",
       "      <td>70.0</td>\n",
       "      <td>3000.0</td>\n",
       "      <td>220.0</td>\n",
       "      <td>0.0</td>\n",
       "      <td>5.0</td>\n",
       "      <td>57.0</td>\n",
       "    </tr>\n",
       "  </tbody>\n",
       "</table>\n",
       "</div>"
      ],
      "text/plain": [
       "   Соотношение матрица-наполнитель  Плотность, кг/м3  модуль упругости, ГПа  \\\n",
       "1                         1.857143            2030.0             738.736842   \n",
       "3                         1.857143            2030.0             738.736842   \n",
       "4                         2.771331            2030.0             753.000000   \n",
       "\n",
       "   Количество отвердителя, м.%  Содержание эпоксидных групп,%_2  \\\n",
       "1                        50.00                        23.750000   \n",
       "3                       129.00                        21.250000   \n",
       "4                       111.86                        22.267857   \n",
       "\n",
       "   Температура вспышки, С_2  Поверхностная плотность, г/м2  \\\n",
       "1                284.615385                          210.0   \n",
       "3                300.000000                          210.0   \n",
       "4                284.615385                          210.0   \n",
       "\n",
       "   Модуль упругости при растяжении, ГПа  Прочность при растяжении, МПа  \\\n",
       "1                                  70.0                         3000.0   \n",
       "3                                  70.0                         3000.0   \n",
       "4                                  70.0                         3000.0   \n",
       "\n",
       "   Потребление смолы, г/м2  Угол нашивки, град  Шаг нашивки  Плотность нашивки  \n",
       "1                    220.0                 0.0          4.0               60.0  \n",
       "3                    220.0                 0.0          5.0               47.0  \n",
       "4                    220.0                 0.0          5.0               57.0  "
      ]
     },
     "execution_count": 3,
     "metadata": {},
     "output_type": "execute_result"
    }
   ],
   "source": [
    "df = pd.read_csv('G:\\\\diploma\\\\data.csv', index_col = 0)\n",
    "df.head(3)"
   ]
  },
  {
   "cell_type": "markdown",
   "id": "4a2818a6",
   "metadata": {},
   "source": [
    "# Прогноз модуля упругости при растяжении"
   ]
  },
  {
   "cell_type": "code",
   "execution_count": 4,
   "id": "054f141c",
   "metadata": {},
   "outputs": [
    {
     "name": "stdout",
     "output_type": "stream",
     "text": [
      "Размер обучающей выборки: 645\n",
      "Размер тестовой выборки: 277\n"
     ]
    }
   ],
   "source": [
    "#подготовка выборок\n",
    "mms = MinMaxScaler()\n",
    "df_norm = pd.DataFrame(mms.fit_transform(df), columns=df.columns, index=df.index)\n",
    "X = df_norm.drop('Модуль упругости при растяжении, ГПа', axis=1)\n",
    "Y = df_norm['Модуль упругости при растяжении, ГПа']\n",
    "X_train, X_test, y_train, y_test = train_test_split(X, Y, test_size=0.3, random_state=1)\n",
    "print(f'Размер обучающей выборки: {X_train.shape[0]}')\n",
    "print(f'Размер тестовой выборки: {X_test.shape[0]}')"
   ]
  },
  {
   "cell_type": "markdown",
   "id": "d6ca45eb",
   "metadata": {},
   "source": [
    "Линейная регрессия"
   ]
  },
  {
   "cell_type": "code",
   "execution_count": 5,
   "id": "20ea15b9",
   "metadata": {},
   "outputs": [
    {
     "name": "stdout",
     "output_type": "stream",
     "text": [
      "CPU times: total: 31.2 ms\n",
      "Wall time: 20.5 ms\n"
     ]
    },
    {
     "data": {
      "text/html": [
       "<style>#sk-container-id-1 {color: black;}#sk-container-id-1 pre{padding: 0;}#sk-container-id-1 div.sk-toggleable {background-color: white;}#sk-container-id-1 label.sk-toggleable__label {cursor: pointer;display: block;width: 100%;margin-bottom: 0;padding: 0.3em;box-sizing: border-box;text-align: center;}#sk-container-id-1 label.sk-toggleable__label-arrow:before {content: \"▸\";float: left;margin-right: 0.25em;color: #696969;}#sk-container-id-1 label.sk-toggleable__label-arrow:hover:before {color: black;}#sk-container-id-1 div.sk-estimator:hover label.sk-toggleable__label-arrow:before {color: black;}#sk-container-id-1 div.sk-toggleable__content {max-height: 0;max-width: 0;overflow: hidden;text-align: left;background-color: #f0f8ff;}#sk-container-id-1 div.sk-toggleable__content pre {margin: 0.2em;color: black;border-radius: 0.25em;background-color: #f0f8ff;}#sk-container-id-1 input.sk-toggleable__control:checked~div.sk-toggleable__content {max-height: 200px;max-width: 100%;overflow: auto;}#sk-container-id-1 input.sk-toggleable__control:checked~label.sk-toggleable__label-arrow:before {content: \"▾\";}#sk-container-id-1 div.sk-estimator input.sk-toggleable__control:checked~label.sk-toggleable__label {background-color: #d4ebff;}#sk-container-id-1 div.sk-label input.sk-toggleable__control:checked~label.sk-toggleable__label {background-color: #d4ebff;}#sk-container-id-1 input.sk-hidden--visually {border: 0;clip: rect(1px 1px 1px 1px);clip: rect(1px, 1px, 1px, 1px);height: 1px;margin: -1px;overflow: hidden;padding: 0;position: absolute;width: 1px;}#sk-container-id-1 div.sk-estimator {font-family: monospace;background-color: #f0f8ff;border: 1px dotted black;border-radius: 0.25em;box-sizing: border-box;margin-bottom: 0.5em;}#sk-container-id-1 div.sk-estimator:hover {background-color: #d4ebff;}#sk-container-id-1 div.sk-parallel-item::after {content: \"\";width: 100%;border-bottom: 1px solid gray;flex-grow: 1;}#sk-container-id-1 div.sk-label:hover label.sk-toggleable__label {background-color: #d4ebff;}#sk-container-id-1 div.sk-serial::before {content: \"\";position: absolute;border-left: 1px solid gray;box-sizing: border-box;top: 0;bottom: 0;left: 50%;z-index: 0;}#sk-container-id-1 div.sk-serial {display: flex;flex-direction: column;align-items: center;background-color: white;padding-right: 0.2em;padding-left: 0.2em;position: relative;}#sk-container-id-1 div.sk-item {position: relative;z-index: 1;}#sk-container-id-1 div.sk-parallel {display: flex;align-items: stretch;justify-content: center;background-color: white;position: relative;}#sk-container-id-1 div.sk-item::before, #sk-container-id-1 div.sk-parallel-item::before {content: \"\";position: absolute;border-left: 1px solid gray;box-sizing: border-box;top: 0;bottom: 0;left: 50%;z-index: -1;}#sk-container-id-1 div.sk-parallel-item {display: flex;flex-direction: column;z-index: 1;position: relative;background-color: white;}#sk-container-id-1 div.sk-parallel-item:first-child::after {align-self: flex-end;width: 50%;}#sk-container-id-1 div.sk-parallel-item:last-child::after {align-self: flex-start;width: 50%;}#sk-container-id-1 div.sk-parallel-item:only-child::after {width: 0;}#sk-container-id-1 div.sk-dashed-wrapped {border: 1px dashed gray;margin: 0 0.4em 0.5em 0.4em;box-sizing: border-box;padding-bottom: 0.4em;background-color: white;}#sk-container-id-1 div.sk-label label {font-family: monospace;font-weight: bold;display: inline-block;line-height: 1.2em;}#sk-container-id-1 div.sk-label-container {text-align: center;}#sk-container-id-1 div.sk-container {/* jupyter's `normalize.less` sets `[hidden] { display: none; }` but bootstrap.min.css set `[hidden] { display: none !important; }` so we also need the `!important` here to be able to override the default hidden behavior on the sphinx rendered scikit-learn.org. See: https://github.com/scikit-learn/scikit-learn/issues/21755 */display: inline-block !important;position: relative;}#sk-container-id-1 div.sk-text-repr-fallback {display: none;}</style><div id=\"sk-container-id-1\" class=\"sk-top-container\"><div class=\"sk-text-repr-fallback\"><pre>LinearRegression()</pre><b>In a Jupyter environment, please rerun this cell to show the HTML representation or trust the notebook. <br />On GitHub, the HTML representation is unable to render, please try loading this page with nbviewer.org.</b></div><div class=\"sk-container\" hidden><div class=\"sk-item\"><div class=\"sk-estimator sk-toggleable\"><input class=\"sk-toggleable__control sk-hidden--visually\" id=\"sk-estimator-id-1\" type=\"checkbox\" checked><label for=\"sk-estimator-id-1\" class=\"sk-toggleable__label sk-toggleable__label-arrow\">LinearRegression</label><div class=\"sk-toggleable__content\"><pre>LinearRegression()</pre></div></div></div></div></div>"
      ],
      "text/plain": [
       "LinearRegression()"
      ]
     },
     "execution_count": 5,
     "metadata": {},
     "output_type": "execute_result"
    }
   ],
   "source": [
    "%%time\n",
    "lnr = LinearRegression()\n",
    "lnr.fit(X_train, y_train)\n",
    "#y_pred = lnr.predict(X_test)"
   ]
  },
  {
   "cell_type": "markdown",
   "id": "9f92a8a2",
   "metadata": {},
   "source": [
    "Случайный лес"
   ]
  },
  {
   "cell_type": "code",
   "execution_count": 6,
   "id": "a98f22ef",
   "metadata": {},
   "outputs": [
    {
     "name": "stdout",
     "output_type": "stream",
     "text": [
      "{'max_depth': 4, 'max_features': 'log2', 'n_estimators': 20}\n",
      "CPU times: total: 1min 33s\n",
      "Wall time: 1min 34s\n"
     ]
    }
   ],
   "source": [
    "%%time\n",
    "rfr = RandomForestRegressor()\n",
    "param_grid = {\n",
    "   'n_estimators': [20, 40, 60],\n",
    "   'max_features': [1.0, 'sqrt', 'log2'],\n",
    "   'max_depth' : [3,4,5,6]\n",
    "}\n",
    "GSCV = GridSearchCV(estimator=rfr, param_grid=param_grid, cv=10)\n",
    "GSCV.fit(X_train, y_train)\n",
    "print(GSCV.best_params_)\n",
    "rfr = GSCV.best_estimator_"
   ]
  },
  {
   "cell_type": "markdown",
   "id": "70e6c4ff",
   "metadata": {},
   "source": [
    "k-ближайших"
   ]
  },
  {
   "cell_type": "code",
   "execution_count": 7,
   "id": "2c34ac51",
   "metadata": {},
   "outputs": [
    {
     "name": "stdout",
     "output_type": "stream",
     "text": [
      "{'n_neighbors': 61}\n",
      "CPU times: total: 59.8 s\n",
      "Wall time: 31.6 s\n"
     ]
    }
   ],
   "source": [
    "%%time\n",
    "knnr= KNeighborsRegressor()\n",
    "param_grid = {\n",
    "   'n_neighbors': range(1, 350, 2),\n",
    "}\n",
    "GSCV = GridSearchCV(estimator=knnr, param_grid=param_grid, cv=10)\n",
    "GSCV.fit(X_train, y_train)\n",
    "print(GSCV.best_params_)\n",
    "knnr = GSCV.best_estimator_"
   ]
  },
  {
   "cell_type": "code",
   "execution_count": 8,
   "id": "aeacabe9",
   "metadata": {},
   "outputs": [
    {
     "name": "stdout",
     "output_type": "stream",
     "text": [
      "{'C': 0.01, 'epsilon': 0.1}\n",
      "CPU times: total: 11.5 s\n",
      "Wall time: 11.4 s\n"
     ]
    }
   ],
   "source": [
    "%%time\n",
    "SVMr = SVR()\n",
    "param_grid = {\n",
    "    #'kernel' : ['linear', 'poly', 'rbf', 'sigmoid'],\n",
    "    'C': [0.001, 0.01, 0.1, 1, 10, 100],\n",
    "    'epsilon': np.arange(0.1, 3.0, 0.2),\n",
    "}\n",
    "GSCV = GridSearchCV(estimator=SVMr, param_grid=param_grid, cv=10)\n",
    "GSCV.fit(X_train, y_train)\n",
    "print(GSCV.best_params_)\n",
    "SVMr = GSCV.best_estimator_"
   ]
  },
  {
   "cell_type": "code",
   "execution_count": 9,
   "id": "2a565aa8",
   "metadata": {},
   "outputs": [
    {
     "name": "stdout",
     "output_type": "stream",
     "text": [
      "{'max_depth': 1, 'n_estimators': 50}\n",
      "CPU times: total: 41 s\n",
      "Wall time: 42.5 s\n"
     ]
    }
   ],
   "source": [
    "%%time\n",
    "gbr = GradientBoostingRegressor()\n",
    "param_grid = {\n",
    "    #'n_estimators': range(50, 200, 5),\n",
    "    #'max_depth': range(1, 10, 1),\n",
    "    'n_estimators': [5, 30, 50],\n",
    "    'max_depth': [1, 5, 10],\n",
    "}\n",
    "GSCV = GridSearchCV(estimator=gbr, param_grid=param_grid, cv=10)\n",
    "GSCV.fit(X_train, y_train)\n",
    "print(GSCV.best_params_)\n",
    "gbr = GSCV.best_estimator_"
   ]
  },
  {
   "cell_type": "code",
   "execution_count": 10,
   "id": "764a9dba",
   "metadata": {},
   "outputs": [],
   "source": [
    "models = [lnr, rfr, knnr, SVMr, gbr]"
   ]
  },
  {
   "cell_type": "code",
   "execution_count": 11,
   "id": "1489f9b5",
   "metadata": {},
   "outputs": [],
   "source": [
    "for i in models:\n",
    "    i.fit(X_train, y_train)"
   ]
  },
  {
   "cell_type": "code",
   "execution_count": 12,
   "id": "ba750328",
   "metadata": {},
   "outputs": [],
   "source": [
    "mae = []\n",
    "mse = []\n",
    "for i in models:\n",
    "    mae.append(mean_absolute_error(i.predict(X_test), y_test))\n",
    "    mse.append(mean_squared_error(i.predict(X_test), y_test))"
   ]
  },
  {
   "cell_type": "code",
   "execution_count": 13,
   "id": "06f04724",
   "metadata": {},
   "outputs": [
    {
     "data": {
      "text/html": [
       "<div>\n",
       "<style scoped>\n",
       "    .dataframe tbody tr th:only-of-type {\n",
       "        vertical-align: middle;\n",
       "    }\n",
       "\n",
       "    .dataframe tbody tr th {\n",
       "        vertical-align: top;\n",
       "    }\n",
       "\n",
       "    .dataframe thead th {\n",
       "        text-align: right;\n",
       "    }\n",
       "</style>\n",
       "<table border=\"1\" class=\"dataframe\">\n",
       "  <thead>\n",
       "    <tr style=\"text-align: right;\">\n",
       "      <th></th>\n",
       "      <th>Модель</th>\n",
       "      <th>MAE</th>\n",
       "      <th>MSE</th>\n",
       "    </tr>\n",
       "  </thead>\n",
       "  <tbody>\n",
       "    <tr>\n",
       "      <th>0</th>\n",
       "      <td>Линейная регрессия</td>\n",
       "      <td>0.161937</td>\n",
       "      <td>0.039564</td>\n",
       "    </tr>\n",
       "    <tr>\n",
       "      <th>1</th>\n",
       "      <td>Случайный лес</td>\n",
       "      <td>0.161887</td>\n",
       "      <td>0.039612</td>\n",
       "    </tr>\n",
       "    <tr>\n",
       "      <th>2</th>\n",
       "      <td>k-ближайших</td>\n",
       "      <td>0.161696</td>\n",
       "      <td>0.039254</td>\n",
       "    </tr>\n",
       "    <tr>\n",
       "      <th>3</th>\n",
       "      <td>Метод опорных векторов</td>\n",
       "      <td>0.160573</td>\n",
       "      <td>0.039016</td>\n",
       "    </tr>\n",
       "    <tr>\n",
       "      <th>4</th>\n",
       "      <td>Градиентный бустинг</td>\n",
       "      <td>0.161973</td>\n",
       "      <td>0.039844</td>\n",
       "    </tr>\n",
       "  </tbody>\n",
       "</table>\n",
       "</div>"
      ],
      "text/plain": [
       "                   Модель       MAE       MSE\n",
       "0      Линейная регрессия  0.161937  0.039564\n",
       "1           Случайный лес  0.161887  0.039612\n",
       "2             k-ближайших  0.161696  0.039254\n",
       "3  Метод опорных векторов  0.160573  0.039016\n",
       "4     Градиентный бустинг  0.161973  0.039844"
      ]
     },
     "execution_count": 13,
     "metadata": {},
     "output_type": "execute_result"
    }
   ],
   "source": [
    "res = {'Модель': ['Линейная регрессия', 'Случайный лес', 'k-ближайших', 'Метод опорных векторов', 'Градиентный бустинг'], \n",
    "       'MAE'   : [i for i in mae], \n",
    "       'MSE'   : [i for i in mse], \n",
    "       }\n",
    "pd.DataFrame(res)"
   ]
  },
  {
   "cell_type": "markdown",
   "id": "bdc7cfe4",
   "metadata": {},
   "source": [
    "# Прогноз прочности при растяжении"
   ]
  },
  {
   "cell_type": "code",
   "execution_count": 14,
   "id": "f2c23552",
   "metadata": {},
   "outputs": [
    {
     "name": "stdout",
     "output_type": "stream",
     "text": [
      "Размер обучающей выборки: 645\n",
      "Размер тестовой выборки: 277\n"
     ]
    }
   ],
   "source": [
    "X1 = df_norm.drop('Прочность при растяжении, МПа', axis=1)\n",
    "Y1 = df_norm['Прочность при растяжении, МПа']\n",
    "X1_train, X1_test, y1_train, y1_test = train_test_split(X1, Y1, test_size=0.3, random_state=1)\n",
    "print(f'Размер обучающей выборки: {X1_train.shape[0]}')\n",
    "print(f'Размер тестовой выборки: {X1_test.shape[0]}')"
   ]
  },
  {
   "cell_type": "code",
   "execution_count": 15,
   "id": "fb543214",
   "metadata": {},
   "outputs": [
    {
     "name": "stdout",
     "output_type": "stream",
     "text": [
      "CPU times: total: 0 ns\n",
      "Wall time: 7.81 ms\n"
     ]
    },
    {
     "data": {
      "text/html": [
       "<style>#sk-container-id-2 {color: black;}#sk-container-id-2 pre{padding: 0;}#sk-container-id-2 div.sk-toggleable {background-color: white;}#sk-container-id-2 label.sk-toggleable__label {cursor: pointer;display: block;width: 100%;margin-bottom: 0;padding: 0.3em;box-sizing: border-box;text-align: center;}#sk-container-id-2 label.sk-toggleable__label-arrow:before {content: \"▸\";float: left;margin-right: 0.25em;color: #696969;}#sk-container-id-2 label.sk-toggleable__label-arrow:hover:before {color: black;}#sk-container-id-2 div.sk-estimator:hover label.sk-toggleable__label-arrow:before {color: black;}#sk-container-id-2 div.sk-toggleable__content {max-height: 0;max-width: 0;overflow: hidden;text-align: left;background-color: #f0f8ff;}#sk-container-id-2 div.sk-toggleable__content pre {margin: 0.2em;color: black;border-radius: 0.25em;background-color: #f0f8ff;}#sk-container-id-2 input.sk-toggleable__control:checked~div.sk-toggleable__content {max-height: 200px;max-width: 100%;overflow: auto;}#sk-container-id-2 input.sk-toggleable__control:checked~label.sk-toggleable__label-arrow:before {content: \"▾\";}#sk-container-id-2 div.sk-estimator input.sk-toggleable__control:checked~label.sk-toggleable__label {background-color: #d4ebff;}#sk-container-id-2 div.sk-label input.sk-toggleable__control:checked~label.sk-toggleable__label {background-color: #d4ebff;}#sk-container-id-2 input.sk-hidden--visually {border: 0;clip: rect(1px 1px 1px 1px);clip: rect(1px, 1px, 1px, 1px);height: 1px;margin: -1px;overflow: hidden;padding: 0;position: absolute;width: 1px;}#sk-container-id-2 div.sk-estimator {font-family: monospace;background-color: #f0f8ff;border: 1px dotted black;border-radius: 0.25em;box-sizing: border-box;margin-bottom: 0.5em;}#sk-container-id-2 div.sk-estimator:hover {background-color: #d4ebff;}#sk-container-id-2 div.sk-parallel-item::after {content: \"\";width: 100%;border-bottom: 1px solid gray;flex-grow: 1;}#sk-container-id-2 div.sk-label:hover label.sk-toggleable__label {background-color: #d4ebff;}#sk-container-id-2 div.sk-serial::before {content: \"\";position: absolute;border-left: 1px solid gray;box-sizing: border-box;top: 0;bottom: 0;left: 50%;z-index: 0;}#sk-container-id-2 div.sk-serial {display: flex;flex-direction: column;align-items: center;background-color: white;padding-right: 0.2em;padding-left: 0.2em;position: relative;}#sk-container-id-2 div.sk-item {position: relative;z-index: 1;}#sk-container-id-2 div.sk-parallel {display: flex;align-items: stretch;justify-content: center;background-color: white;position: relative;}#sk-container-id-2 div.sk-item::before, #sk-container-id-2 div.sk-parallel-item::before {content: \"\";position: absolute;border-left: 1px solid gray;box-sizing: border-box;top: 0;bottom: 0;left: 50%;z-index: -1;}#sk-container-id-2 div.sk-parallel-item {display: flex;flex-direction: column;z-index: 1;position: relative;background-color: white;}#sk-container-id-2 div.sk-parallel-item:first-child::after {align-self: flex-end;width: 50%;}#sk-container-id-2 div.sk-parallel-item:last-child::after {align-self: flex-start;width: 50%;}#sk-container-id-2 div.sk-parallel-item:only-child::after {width: 0;}#sk-container-id-2 div.sk-dashed-wrapped {border: 1px dashed gray;margin: 0 0.4em 0.5em 0.4em;box-sizing: border-box;padding-bottom: 0.4em;background-color: white;}#sk-container-id-2 div.sk-label label {font-family: monospace;font-weight: bold;display: inline-block;line-height: 1.2em;}#sk-container-id-2 div.sk-label-container {text-align: center;}#sk-container-id-2 div.sk-container {/* jupyter's `normalize.less` sets `[hidden] { display: none; }` but bootstrap.min.css set `[hidden] { display: none !important; }` so we also need the `!important` here to be able to override the default hidden behavior on the sphinx rendered scikit-learn.org. See: https://github.com/scikit-learn/scikit-learn/issues/21755 */display: inline-block !important;position: relative;}#sk-container-id-2 div.sk-text-repr-fallback {display: none;}</style><div id=\"sk-container-id-2\" class=\"sk-top-container\"><div class=\"sk-text-repr-fallback\"><pre>LinearRegression()</pre><b>In a Jupyter environment, please rerun this cell to show the HTML representation or trust the notebook. <br />On GitHub, the HTML representation is unable to render, please try loading this page with nbviewer.org.</b></div><div class=\"sk-container\" hidden><div class=\"sk-item\"><div class=\"sk-estimator sk-toggleable\"><input class=\"sk-toggleable__control sk-hidden--visually\" id=\"sk-estimator-id-2\" type=\"checkbox\" checked><label for=\"sk-estimator-id-2\" class=\"sk-toggleable__label sk-toggleable__label-arrow\">LinearRegression</label><div class=\"sk-toggleable__content\"><pre>LinearRegression()</pre></div></div></div></div></div>"
      ],
      "text/plain": [
       "LinearRegression()"
      ]
     },
     "execution_count": 15,
     "metadata": {},
     "output_type": "execute_result"
    }
   ],
   "source": [
    "%%time\n",
    "lnr_1 = LinearRegression()\n",
    "lnr_1.fit(X1_train, y1_train)\n",
    "#y_pred = lnr.predict(X_test)"
   ]
  },
  {
   "cell_type": "code",
   "execution_count": 16,
   "id": "68f2c1d6",
   "metadata": {},
   "outputs": [
    {
     "name": "stdout",
     "output_type": "stream",
     "text": [
      "{'max_depth': 3, 'max_features': 'log2', 'n_estimators': 20}\n",
      "CPU times: total: 1min 34s\n",
      "Wall time: 1min 39s\n"
     ]
    }
   ],
   "source": [
    "%%time\n",
    "rfr_1 = RandomForestRegressor()\n",
    "param_grid = {\n",
    "   'n_estimators': [20, 40, 60],\n",
    "   'max_features': [1.0, 'sqrt', 'log2'],\n",
    "   'max_depth' : [3,4,5,6]\n",
    "}\n",
    "GSCV = GridSearchCV(estimator=rfr_1, param_grid=param_grid, cv=10)\n",
    "GSCV.fit(X1_train, y1_train)\n",
    "print(GSCV.best_params_)\n",
    "rfr_1 = GSCV.best_estimator_"
   ]
  },
  {
   "cell_type": "code",
   "execution_count": 17,
   "id": "4fec290b",
   "metadata": {},
   "outputs": [
    {
     "name": "stdout",
     "output_type": "stream",
     "text": [
      "{'n_neighbors': 243}\n",
      "CPU times: total: 59.4 s\n",
      "Wall time: 32.2 s\n"
     ]
    }
   ],
   "source": [
    "%%time\n",
    "knnr_1= KNeighborsRegressor()\n",
    "param_grid = {\n",
    "   'n_neighbors': range(1, 350, 2),\n",
    "}\n",
    "GSCV = GridSearchCV(estimator=knnr_1, param_grid=param_grid, cv=10)\n",
    "GSCV.fit(X1_train, y1_train)\n",
    "print(GSCV.best_params_)\n",
    "knnr_1 = GSCV.best_estimator_"
   ]
  },
  {
   "cell_type": "code",
   "execution_count": 18,
   "id": "fc1b2404",
   "metadata": {},
   "outputs": [
    {
     "name": "stdout",
     "output_type": "stream",
     "text": [
      "{'C': 0.01, 'epsilon': 0.30000000000000004}\n",
      "CPU times: total: 11.3 s\n",
      "Wall time: 11.5 s\n"
     ]
    }
   ],
   "source": [
    "%%time\n",
    "SVMr_1 = SVR()\n",
    "param_grid = {\n",
    "    #'kernel' : ['linear', 'poly', 'rbf', 'sigmoid'],\n",
    "    'C': [0.001, 0.01, 0.1, 1, 10, 100],\n",
    "    'epsilon': np.arange(0.1, 3.0, 0.2),\n",
    "}\n",
    "GSCV = GridSearchCV(estimator=SVMr_1, param_grid=param_grid, cv=10)\n",
    "GSCV.fit(X1_train, y1_train)\n",
    "print(GSCV.best_params_)\n",
    "SVMr_1 = GSCV.best_estimator_"
   ]
  },
  {
   "cell_type": "code",
   "execution_count": 19,
   "id": "1bc8b1e8",
   "metadata": {},
   "outputs": [
    {
     "name": "stdout",
     "output_type": "stream",
     "text": [
      "{'max_depth': 5, 'n_estimators': 5}\n",
      "CPU times: total: 42.3 s\n",
      "Wall time: 43.7 s\n"
     ]
    }
   ],
   "source": [
    "%%time\n",
    "gbr_1 = GradientBoostingRegressor()\n",
    "param_grid = {\n",
    "    #'n_estimators': range(50, 200, 5),\n",
    "    #'max_depth': range(1, 10, 1),\n",
    "    'n_estimators': [5, 30, 50],\n",
    "    'max_depth': [1, 5, 10],\n",
    "}\n",
    "GSCV = GridSearchCV(estimator=gbr_1, param_grid=param_grid, cv=10)\n",
    "GSCV.fit(X1_train, y1_train)\n",
    "print(GSCV.best_params_)\n",
    "gbr_1 = GSCV.best_estimator_"
   ]
  },
  {
   "cell_type": "code",
   "execution_count": 20,
   "id": "b88d7c50",
   "metadata": {},
   "outputs": [],
   "source": [
    "models_1 = [lnr_1, rfr_1, knnr_1, SVMr_1, gbr_1]"
   ]
  },
  {
   "cell_type": "code",
   "execution_count": 21,
   "id": "4f367ae9",
   "metadata": {},
   "outputs": [],
   "source": [
    "for i in models_1:\n",
    "    i.fit(X1_train, y1_train)"
   ]
  },
  {
   "cell_type": "code",
   "execution_count": 22,
   "id": "6d5f43ad",
   "metadata": {},
   "outputs": [],
   "source": [
    "mae_1 = []\n",
    "mse_1 = []\n",
    "for i in models_1:\n",
    "    mae_1.append(mean_absolute_error(i.predict(X1_test), y1_test))\n",
    "    mse_1.append(mean_squared_error(i.predict(X1_test), y1_test))"
   ]
  },
  {
   "cell_type": "code",
   "execution_count": 23,
   "id": "a3d65e67",
   "metadata": {},
   "outputs": [
    {
     "data": {
      "text/html": [
       "<div>\n",
       "<style scoped>\n",
       "    .dataframe tbody tr th:only-of-type {\n",
       "        vertical-align: middle;\n",
       "    }\n",
       "\n",
       "    .dataframe tbody tr th {\n",
       "        vertical-align: top;\n",
       "    }\n",
       "\n",
       "    .dataframe thead th {\n",
       "        text-align: right;\n",
       "    }\n",
       "</style>\n",
       "<table border=\"1\" class=\"dataframe\">\n",
       "  <thead>\n",
       "    <tr style=\"text-align: right;\">\n",
       "      <th></th>\n",
       "      <th>Модель</th>\n",
       "      <th>MAE</th>\n",
       "      <th>MSE</th>\n",
       "    </tr>\n",
       "  </thead>\n",
       "  <tbody>\n",
       "    <tr>\n",
       "      <th>0</th>\n",
       "      <td>Линейная регрессия</td>\n",
       "      <td>0.149937</td>\n",
       "      <td>0.034523</td>\n",
       "    </tr>\n",
       "    <tr>\n",
       "      <th>1</th>\n",
       "      <td>Случайный лес</td>\n",
       "      <td>0.150998</td>\n",
       "      <td>0.034852</td>\n",
       "    </tr>\n",
       "    <tr>\n",
       "      <th>2</th>\n",
       "      <td>k-ближайших</td>\n",
       "      <td>0.152226</td>\n",
       "      <td>0.035300</td>\n",
       "    </tr>\n",
       "    <tr>\n",
       "      <th>3</th>\n",
       "      <td>Метод опорных векторов</td>\n",
       "      <td>0.151112</td>\n",
       "      <td>0.034843</td>\n",
       "    </tr>\n",
       "    <tr>\n",
       "      <th>4</th>\n",
       "      <td>Градиентный бустинг</td>\n",
       "      <td>0.152481</td>\n",
       "      <td>0.035355</td>\n",
       "    </tr>\n",
       "  </tbody>\n",
       "</table>\n",
       "</div>"
      ],
      "text/plain": [
       "                   Модель       MAE       MSE\n",
       "0      Линейная регрессия  0.149937  0.034523\n",
       "1           Случайный лес  0.150998  0.034852\n",
       "2             k-ближайших  0.152226  0.035300\n",
       "3  Метод опорных векторов  0.151112  0.034843\n",
       "4     Градиентный бустинг  0.152481  0.035355"
      ]
     },
     "execution_count": 23,
     "metadata": {},
     "output_type": "execute_result"
    }
   ],
   "source": [
    "res_1 = {'Модель': ['Линейная регрессия', 'Случайный лес', 'k-ближайших', 'Метод опорных векторов', 'Градиентный бустинг'], \n",
    "         'MAE'   : [i for i in mae_1],\n",
    "         'MSE'   : [i for i in mse_1],\n",
    "       }\n",
    "pd.DataFrame(res_1)"
   ]
  },
  {
   "cell_type": "code",
   "execution_count": 24,
   "id": "ab5cf0d8",
   "metadata": {},
   "outputs": [],
   "source": [
    "import pickle"
   ]
  },
  {
   "cell_type": "code",
   "execution_count": 28,
   "id": "6382f1f5",
   "metadata": {},
   "outputs": [],
   "source": [
    "pickle.dump(lnr, open('lnr_model.pkl', 'wb'))\n",
    "pickle.dump(lnr_1, open('lnr_1_model.pkl', 'wb'))"
   ]
  },
  {
   "cell_type": "code",
   "execution_count": null,
   "id": "cb3af4b3",
   "metadata": {},
   "outputs": [],
   "source": []
  }
 ],
 "metadata": {
  "kernelspec": {
   "display_name": "Python 3 (ipykernel)",
   "language": "python",
   "name": "python3"
  },
  "language_info": {
   "codemirror_mode": {
    "name": "ipython",
    "version": 3
   },
   "file_extension": ".py",
   "mimetype": "text/x-python",
   "name": "python",
   "nbconvert_exporter": "python",
   "pygments_lexer": "ipython3",
   "version": "3.11.4"
  }
 },
 "nbformat": 4,
 "nbformat_minor": 5
}
