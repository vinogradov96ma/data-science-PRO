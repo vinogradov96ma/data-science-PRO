{
 "cells": [
  {
   "cell_type": "code",
   "execution_count": 1,
   "id": "8fb64821",
   "metadata": {},
   "outputs": [],
   "source": [
    "import pandas as pd\n",
    "import numpy as np\n",
    "import matplotlib.pyplot as plt\n",
    "from tensorflow import keras\n",
    "from tensorflow.keras import layers\n",
    "\n",
    "from sklearn.model_selection import train_test_split\n",
    "\n",
    "from sklearn.model_selection import GridSearchCV\n",
    "#импортируем scikeras для использования GridSearchCV в модели keras\n",
    "from scikeras.wrappers import KerasRegressor"
   ]
  },
  {
   "cell_type": "code",
   "execution_count": 2,
   "id": "6c9d4697",
   "metadata": {},
   "outputs": [
    {
     "data": {
      "text/html": [
       "<div>\n",
       "<style scoped>\n",
       "    .dataframe tbody tr th:only-of-type {\n",
       "        vertical-align: middle;\n",
       "    }\n",
       "\n",
       "    .dataframe tbody tr th {\n",
       "        vertical-align: top;\n",
       "    }\n",
       "\n",
       "    .dataframe thead th {\n",
       "        text-align: right;\n",
       "    }\n",
       "</style>\n",
       "<table border=\"1\" class=\"dataframe\">\n",
       "  <thead>\n",
       "    <tr style=\"text-align: right;\">\n",
       "      <th></th>\n",
       "      <th>Соотношение матрица-наполнитель</th>\n",
       "      <th>Плотность, кг/м3</th>\n",
       "      <th>модуль упругости, ГПа</th>\n",
       "      <th>Количество отвердителя, м.%</th>\n",
       "      <th>Содержание эпоксидных групп,%_2</th>\n",
       "      <th>Температура вспышки, С_2</th>\n",
       "      <th>Поверхностная плотность, г/м2</th>\n",
       "      <th>Модуль упругости при растяжении, ГПа</th>\n",
       "      <th>Прочность при растяжении, МПа</th>\n",
       "      <th>Потребление смолы, г/м2</th>\n",
       "      <th>Угол нашивки, град</th>\n",
       "      <th>Шаг нашивки</th>\n",
       "      <th>Плотность нашивки</th>\n",
       "    </tr>\n",
       "  </thead>\n",
       "  <tbody>\n",
       "    <tr>\n",
       "      <th>1</th>\n",
       "      <td>1.857143</td>\n",
       "      <td>2030.0</td>\n",
       "      <td>738.736842</td>\n",
       "      <td>50.00</td>\n",
       "      <td>23.750000</td>\n",
       "      <td>284.615385</td>\n",
       "      <td>210.0</td>\n",
       "      <td>70.0</td>\n",
       "      <td>3000.0</td>\n",
       "      <td>220.0</td>\n",
       "      <td>0.0</td>\n",
       "      <td>4.0</td>\n",
       "      <td>60.0</td>\n",
       "    </tr>\n",
       "    <tr>\n",
       "      <th>3</th>\n",
       "      <td>1.857143</td>\n",
       "      <td>2030.0</td>\n",
       "      <td>738.736842</td>\n",
       "      <td>129.00</td>\n",
       "      <td>21.250000</td>\n",
       "      <td>300.000000</td>\n",
       "      <td>210.0</td>\n",
       "      <td>70.0</td>\n",
       "      <td>3000.0</td>\n",
       "      <td>220.0</td>\n",
       "      <td>0.0</td>\n",
       "      <td>5.0</td>\n",
       "      <td>47.0</td>\n",
       "    </tr>\n",
       "    <tr>\n",
       "      <th>4</th>\n",
       "      <td>2.771331</td>\n",
       "      <td>2030.0</td>\n",
       "      <td>753.000000</td>\n",
       "      <td>111.86</td>\n",
       "      <td>22.267857</td>\n",
       "      <td>284.615385</td>\n",
       "      <td>210.0</td>\n",
       "      <td>70.0</td>\n",
       "      <td>3000.0</td>\n",
       "      <td>220.0</td>\n",
       "      <td>0.0</td>\n",
       "      <td>5.0</td>\n",
       "      <td>57.0</td>\n",
       "    </tr>\n",
       "    <tr>\n",
       "      <th>5</th>\n",
       "      <td>2.767918</td>\n",
       "      <td>2000.0</td>\n",
       "      <td>748.000000</td>\n",
       "      <td>111.86</td>\n",
       "      <td>22.267857</td>\n",
       "      <td>284.615385</td>\n",
       "      <td>210.0</td>\n",
       "      <td>70.0</td>\n",
       "      <td>3000.0</td>\n",
       "      <td>220.0</td>\n",
       "      <td>0.0</td>\n",
       "      <td>5.0</td>\n",
       "      <td>60.0</td>\n",
       "    </tr>\n",
       "    <tr>\n",
       "      <th>6</th>\n",
       "      <td>2.569620</td>\n",
       "      <td>1910.0</td>\n",
       "      <td>807.000000</td>\n",
       "      <td>111.86</td>\n",
       "      <td>22.267857</td>\n",
       "      <td>284.615385</td>\n",
       "      <td>210.0</td>\n",
       "      <td>70.0</td>\n",
       "      <td>3000.0</td>\n",
       "      <td>220.0</td>\n",
       "      <td>0.0</td>\n",
       "      <td>5.0</td>\n",
       "      <td>70.0</td>\n",
       "    </tr>\n",
       "  </tbody>\n",
       "</table>\n",
       "</div>"
      ],
      "text/plain": [
       "   Соотношение матрица-наполнитель  Плотность, кг/м3  модуль упругости, ГПа  \\\n",
       "1                         1.857143            2030.0             738.736842   \n",
       "3                         1.857143            2030.0             738.736842   \n",
       "4                         2.771331            2030.0             753.000000   \n",
       "5                         2.767918            2000.0             748.000000   \n",
       "6                         2.569620            1910.0             807.000000   \n",
       "\n",
       "   Количество отвердителя, м.%  Содержание эпоксидных групп,%_2  \\\n",
       "1                        50.00                        23.750000   \n",
       "3                       129.00                        21.250000   \n",
       "4                       111.86                        22.267857   \n",
       "5                       111.86                        22.267857   \n",
       "6                       111.86                        22.267857   \n",
       "\n",
       "   Температура вспышки, С_2  Поверхностная плотность, г/м2  \\\n",
       "1                284.615385                          210.0   \n",
       "3                300.000000                          210.0   \n",
       "4                284.615385                          210.0   \n",
       "5                284.615385                          210.0   \n",
       "6                284.615385                          210.0   \n",
       "\n",
       "   Модуль упругости при растяжении, ГПа  Прочность при растяжении, МПа  \\\n",
       "1                                  70.0                         3000.0   \n",
       "3                                  70.0                         3000.0   \n",
       "4                                  70.0                         3000.0   \n",
       "5                                  70.0                         3000.0   \n",
       "6                                  70.0                         3000.0   \n",
       "\n",
       "   Потребление смолы, г/м2  Угол нашивки, град  Шаг нашивки  Плотность нашивки  \n",
       "1                    220.0                 0.0          4.0               60.0  \n",
       "3                    220.0                 0.0          5.0               47.0  \n",
       "4                    220.0                 0.0          5.0               57.0  \n",
       "5                    220.0                 0.0          5.0               60.0  \n",
       "6                    220.0                 0.0          5.0               70.0  "
      ]
     },
     "execution_count": 2,
     "metadata": {},
     "output_type": "execute_result"
    }
   ],
   "source": [
    "#загружаем данные\n",
    "data = pd.read_csv('G:\\\\diploma\\\\data.csv', index_col = 0)\n",
    "data.head(5)"
   ]
  },
  {
   "cell_type": "code",
   "execution_count": 3,
   "id": "2196022e",
   "metadata": {},
   "outputs": [],
   "source": [
    "X = data.drop('Соотношение матрица-наполнитель', axis=1)\n",
    "Y = data['Соотношение матрица-наполнитель']\n",
    "X_train, X_test, y_train, y_test = train_test_split(X, Y, test_size=0.3, random_state=42)"
   ]
  },
  {
   "cell_type": "code",
   "execution_count": 4,
   "id": "3781384a",
   "metadata": {},
   "outputs": [],
   "source": [
    "normalizer = layers.Normalization(input_shape=[12,], axis=None)\n",
    "normalizer.adapt(np.array(X_train))"
   ]
  },
  {
   "cell_type": "markdown",
   "id": "25574029",
   "metadata": {},
   "source": [
    "Модель Keras"
   ]
  },
  {
   "cell_type": "code",
   "execution_count": 5,
   "id": "f5111e78",
   "metadata": {},
   "outputs": [],
   "source": [
    "net = keras.Sequential([normalizer, layers.Dense(128, activation='relu'),\n",
    "                             layers.Dense(128, activation='relu'), \n",
    "                             layers.Dense(128, activation='relu'), \n",
    "                             layers.Dense(64, activation='relu'),\n",
    "                             layers.Dense(64, activation='relu'),\n",
    "                             layers.Dense(32, activation='relu'), \n",
    "                             layers.Dense(16, activation='relu'), \n",
    "                             layers.Dense(1)\n",
    "                            ])\n",
    "net.compile(optimizer = keras.optimizers.Adam(0.001), loss = 'mean_squared_error')"
   ]
  },
  {
   "cell_type": "code",
   "execution_count": 6,
   "id": "3b2418a7",
   "metadata": {},
   "outputs": [
    {
     "name": "stdout",
     "output_type": "stream",
     "text": [
      "Model: \"sequential\"\n",
      "_________________________________________________________________\n",
      " Layer (type)                Output Shape              Param #   \n",
      "=================================================================\n",
      " normalization (Normalizati  (None, 12)                3         \n",
      " on)                                                             \n",
      "                                                                 \n",
      " dense (Dense)               (None, 128)               1664      \n",
      "                                                                 \n",
      " dense_1 (Dense)             (None, 128)               16512     \n",
      "                                                                 \n",
      " dense_2 (Dense)             (None, 128)               16512     \n",
      "                                                                 \n",
      " dense_3 (Dense)             (None, 64)                8256      \n",
      "                                                                 \n",
      " dense_4 (Dense)             (None, 64)                4160      \n",
      "                                                                 \n",
      " dense_5 (Dense)             (None, 32)                2080      \n",
      "                                                                 \n",
      " dense_6 (Dense)             (None, 16)                528       \n",
      "                                                                 \n",
      " dense_7 (Dense)             (None, 1)                 17        \n",
      "                                                                 \n",
      "=================================================================\n",
      "Total params: 49732 (194.27 KB)\n",
      "Trainable params: 49729 (194.25 KB)\n",
      "Non-trainable params: 3 (16.00 Byte)\n",
      "_________________________________________________________________\n"
     ]
    }
   ],
   "source": [
    "net.summary()"
   ]
  },
  {
   "cell_type": "code",
   "execution_count": 7,
   "id": "dc8d8fbc",
   "metadata": {},
   "outputs": [
    {
     "name": "stdout",
     "output_type": "stream",
     "text": [
      "Epoch 1/100\n",
      "17/17 [==============================] - 3s 33ms/step - loss: 6.7633 - val_loss: 1.2053\n",
      "Epoch 2/100\n",
      "17/17 [==============================] - 0s 10ms/step - loss: 1.2904 - val_loss: 1.3993\n",
      "Epoch 3/100\n",
      "17/17 [==============================] - 0s 10ms/step - loss: 0.9694 - val_loss: 0.9348\n",
      "Epoch 4/100\n",
      "17/17 [==============================] - 0s 10ms/step - loss: 0.8667 - val_loss: 0.9077\n",
      "Epoch 5/100\n",
      "17/17 [==============================] - 0s 9ms/step - loss: 0.8840 - val_loss: 0.8909\n",
      "Epoch 6/100\n",
      "17/17 [==============================] - 0s 10ms/step - loss: 0.8534 - val_loss: 0.9023\n",
      "Epoch 7/100\n",
      "17/17 [==============================] - 0s 10ms/step - loss: 0.8391 - val_loss: 0.8684\n",
      "Epoch 8/100\n",
      "17/17 [==============================] - 0s 10ms/step - loss: 0.8382 - val_loss: 0.8599\n",
      "Epoch 9/100\n",
      "17/17 [==============================] - 0s 10ms/step - loss: 0.8211 - val_loss: 0.8431\n",
      "Epoch 10/100\n",
      "17/17 [==============================] - 0s 10ms/step - loss: 0.8362 - val_loss: 0.8779\n",
      "Epoch 11/100\n",
      "17/17 [==============================] - 0s 9ms/step - loss: 0.8429 - val_loss: 0.8639\n",
      "Epoch 12/100\n",
      "17/17 [==============================] - 0s 9ms/step - loss: 0.8704 - val_loss: 0.9344\n",
      "Epoch 13/100\n",
      "17/17 [==============================] - 0s 9ms/step - loss: 0.8905 - val_loss: 0.9498\n",
      "Epoch 14/100\n",
      "17/17 [==============================] - 0s 9ms/step - loss: 0.8539 - val_loss: 0.9545\n",
      "Epoch 15/100\n",
      "17/17 [==============================] - 0s 9ms/step - loss: 0.8398 - val_loss: 0.8409\n",
      "Epoch 16/100\n",
      "17/17 [==============================] - 0s 9ms/step - loss: 0.8108 - val_loss: 0.8579\n",
      "Epoch 17/100\n",
      "17/17 [==============================] - 0s 9ms/step - loss: 0.8387 - val_loss: 0.9892\n",
      "Epoch 18/100\n",
      "17/17 [==============================] - 0s 9ms/step - loss: 0.8476 - val_loss: 0.8751\n",
      "Epoch 19/100\n",
      "17/17 [==============================] - 0s 9ms/step - loss: 0.8386 - val_loss: 0.8442\n",
      "Epoch 20/100\n",
      "17/17 [==============================] - 0s 9ms/step - loss: 0.8125 - val_loss: 0.8370\n",
      "Epoch 21/100\n",
      "17/17 [==============================] - 0s 9ms/step - loss: 0.8161 - val_loss: 0.8387\n",
      "Epoch 22/100\n",
      "17/17 [==============================] - 0s 9ms/step - loss: 0.8125 - val_loss: 0.8466\n",
      "Epoch 23/100\n",
      "17/17 [==============================] - 0s 9ms/step - loss: 0.8221 - val_loss: 0.8418\n",
      "Epoch 24/100\n",
      "17/17 [==============================] - 0s 9ms/step - loss: 0.8493 - val_loss: 0.8414\n",
      "Epoch 25/100\n",
      "17/17 [==============================] - 0s 9ms/step - loss: 0.8234 - val_loss: 0.8607\n",
      "Epoch 26/100\n",
      "17/17 [==============================] - 0s 9ms/step - loss: 0.8279 - val_loss: 0.8408\n",
      "Epoch 27/100\n",
      "17/17 [==============================] - 0s 10ms/step - loss: 0.8077 - val_loss: 0.8739\n",
      "Epoch 28/100\n",
      "17/17 [==============================] - 0s 10ms/step - loss: 0.8425 - val_loss: 0.8491\n",
      "Epoch 29/100\n",
      "17/17 [==============================] - 0s 10ms/step - loss: 0.8933 - val_loss: 0.8819\n",
      "Epoch 30/100\n",
      "17/17 [==============================] - 0s 10ms/step - loss: 0.8615 - val_loss: 0.8896\n",
      "Epoch 31/100\n",
      "17/17 [==============================] - 0s 11ms/step - loss: 0.9173 - val_loss: 0.8870\n",
      "Epoch 32/100\n",
      "17/17 [==============================] - 0s 12ms/step - loss: 0.8401 - val_loss: 0.8551\n",
      "Epoch 33/100\n",
      "17/17 [==============================] - 0s 10ms/step - loss: 0.8143 - val_loss: 0.8572\n",
      "Epoch 34/100\n",
      "17/17 [==============================] - 0s 11ms/step - loss: 0.8128 - val_loss: 0.9277\n",
      "Epoch 35/100\n",
      "17/17 [==============================] - 0s 9ms/step - loss: 0.8422 - val_loss: 0.8954\n",
      "Epoch 36/100\n",
      "17/17 [==============================] - 0s 10ms/step - loss: 0.8494 - val_loss: 0.8511\n",
      "Epoch 37/100\n",
      "17/17 [==============================] - 0s 11ms/step - loss: 0.8281 - val_loss: 0.8505\n",
      "Epoch 38/100\n",
      "17/17 [==============================] - 0s 9ms/step - loss: 0.8361 - val_loss: 0.9084\n",
      "Epoch 39/100\n",
      "17/17 [==============================] - 0s 10ms/step - loss: 0.8346 - val_loss: 0.8491\n",
      "Epoch 40/100\n",
      "17/17 [==============================] - 0s 10ms/step - loss: 0.8131 - val_loss: 0.8668\n",
      "Epoch 41/100\n",
      "17/17 [==============================] - 0s 11ms/step - loss: 0.8839 - val_loss: 0.9149\n",
      "Epoch 42/100\n",
      "17/17 [==============================] - 0s 10ms/step - loss: 0.9300 - val_loss: 0.8826\n",
      "Epoch 43/100\n",
      "17/17 [==============================] - 0s 10ms/step - loss: 0.8294 - val_loss: 0.9401\n",
      "Epoch 44/100\n",
      "17/17 [==============================] - 0s 10ms/step - loss: 0.8314 - val_loss: 0.9166\n",
      "Epoch 45/100\n",
      "17/17 [==============================] - 0s 10ms/step - loss: 0.8227 - val_loss: 0.8517\n",
      "Epoch 46/100\n",
      "17/17 [==============================] - 0s 10ms/step - loss: 0.8040 - val_loss: 0.8731\n",
      "Epoch 47/100\n",
      "17/17 [==============================] - 0s 10ms/step - loss: 0.8223 - val_loss: 0.8754\n",
      "Epoch 48/100\n",
      "17/17 [==============================] - 0s 9ms/step - loss: 0.8634 - val_loss: 0.9962\n",
      "Epoch 49/100\n",
      "17/17 [==============================] - 0s 11ms/step - loss: 0.9057 - val_loss: 1.0219\n",
      "Epoch 50/100\n",
      "17/17 [==============================] - 0s 11ms/step - loss: 0.8224 - val_loss: 0.8466\n",
      "Epoch 51/100\n",
      "17/17 [==============================] - 0s 11ms/step - loss: 0.8033 - val_loss: 0.8637\n",
      "Epoch 52/100\n",
      "17/17 [==============================] - 0s 10ms/step - loss: 0.8073 - val_loss: 0.8518\n",
      "Epoch 53/100\n",
      "17/17 [==============================] - 0s 9ms/step - loss: 0.8133 - val_loss: 0.8683\n",
      "Epoch 54/100\n",
      "17/17 [==============================] - 0s 10ms/step - loss: 0.8101 - val_loss: 0.8481\n",
      "Epoch 55/100\n",
      "17/17 [==============================] - 0s 10ms/step - loss: 0.8225 - val_loss: 0.8482\n",
      "Epoch 56/100\n",
      "17/17 [==============================] - 0s 10ms/step - loss: 0.8072 - val_loss: 0.8535\n",
      "Epoch 57/100\n",
      "17/17 [==============================] - 0s 9ms/step - loss: 0.8034 - val_loss: 0.8514\n",
      "Epoch 58/100\n",
      "17/17 [==============================] - 0s 10ms/step - loss: 0.8010 - val_loss: 0.8499\n",
      "Epoch 59/100\n",
      "17/17 [==============================] - 0s 10ms/step - loss: 0.8084 - val_loss: 0.8642\n",
      "Epoch 60/100\n",
      "17/17 [==============================] - 0s 10ms/step - loss: 0.8199 - val_loss: 0.8514\n",
      "Epoch 61/100\n",
      "17/17 [==============================] - 0s 10ms/step - loss: 0.8157 - val_loss: 0.8850\n",
      "Epoch 62/100\n",
      "17/17 [==============================] - 0s 9ms/step - loss: 0.8071 - val_loss: 0.9159\n",
      "Epoch 63/100\n",
      "17/17 [==============================] - 0s 9ms/step - loss: 0.8714 - val_loss: 0.8834\n",
      "Epoch 64/100\n",
      "17/17 [==============================] - 0s 9ms/step - loss: 0.8065 - val_loss: 0.8570\n",
      "Epoch 65/100\n",
      "17/17 [==============================] - 0s 10ms/step - loss: 0.8062 - val_loss: 0.8503\n",
      "Epoch 66/100\n",
      "17/17 [==============================] - 0s 10ms/step - loss: 0.8007 - val_loss: 0.8525\n",
      "Epoch 67/100\n",
      "17/17 [==============================] - 0s 9ms/step - loss: 0.7979 - val_loss: 0.8562\n",
      "Epoch 68/100\n",
      "17/17 [==============================] - 0s 9ms/step - loss: 0.8126 - val_loss: 0.8513\n",
      "Epoch 69/100\n",
      "17/17 [==============================] - 0s 9ms/step - loss: 0.8055 - val_loss: 0.8540\n",
      "Epoch 70/100\n",
      "17/17 [==============================] - 0s 9ms/step - loss: 0.8108 - val_loss: 0.8518\n",
      "Epoch 71/100\n",
      "17/17 [==============================] - 0s 10ms/step - loss: 0.7981 - val_loss: 0.8644\n",
      "Epoch 72/100\n",
      "17/17 [==============================] - 0s 9ms/step - loss: 0.8139 - val_loss: 0.9065\n",
      "Epoch 73/100\n",
      "17/17 [==============================] - 0s 9ms/step - loss: 0.8395 - val_loss: 0.8565\n",
      "Epoch 74/100\n",
      "17/17 [==============================] - 0s 10ms/step - loss: 0.7984 - val_loss: 0.8701\n",
      "Epoch 75/100\n",
      "17/17 [==============================] - 0s 9ms/step - loss: 0.8175 - val_loss: 0.9391\n",
      "Epoch 76/100\n",
      "17/17 [==============================] - 0s 9ms/step - loss: 0.8163 - val_loss: 0.8628\n",
      "Epoch 77/100\n",
      "17/17 [==============================] - 0s 9ms/step - loss: 0.8092 - val_loss: 0.8804\n",
      "Epoch 78/100\n",
      "17/17 [==============================] - 0s 9ms/step - loss: 0.8059 - val_loss: 0.8555\n",
      "Epoch 79/100\n",
      "17/17 [==============================] - 0s 9ms/step - loss: 0.8161 - val_loss: 0.8681\n",
      "Epoch 80/100\n",
      "17/17 [==============================] - 0s 9ms/step - loss: 0.8405 - val_loss: 0.9981\n",
      "Epoch 81/100\n",
      "17/17 [==============================] - 0s 9ms/step - loss: 0.8381 - val_loss: 0.9519\n",
      "Epoch 82/100\n",
      "17/17 [==============================] - 0s 9ms/step - loss: 0.8263 - val_loss: 0.8780\n",
      "Epoch 83/100\n",
      "17/17 [==============================] - 0s 9ms/step - loss: 0.7921 - val_loss: 0.8521\n",
      "Epoch 84/100\n",
      "17/17 [==============================] - 0s 9ms/step - loss: 0.7897 - val_loss: 0.8586\n",
      "Epoch 85/100\n",
      "17/17 [==============================] - 0s 10ms/step - loss: 0.7987 - val_loss: 0.8710\n",
      "Epoch 86/100\n",
      "17/17 [==============================] - 0s 9ms/step - loss: 0.8550 - val_loss: 0.9079\n",
      "Epoch 87/100\n",
      "17/17 [==============================] - 0s 10ms/step - loss: 0.8109 - val_loss: 0.8692\n",
      "Epoch 88/100\n",
      "17/17 [==============================] - 0s 10ms/step - loss: 0.7917 - val_loss: 0.8573\n",
      "Epoch 89/100\n",
      "17/17 [==============================] - 0s 9ms/step - loss: 0.8102 - val_loss: 0.8729\n",
      "Epoch 90/100\n",
      "17/17 [==============================] - 0s 10ms/step - loss: 0.8281 - val_loss: 0.8623\n",
      "Epoch 91/100\n",
      "17/17 [==============================] - 0s 9ms/step - loss: 0.7955 - val_loss: 0.8574\n",
      "Epoch 92/100\n",
      "17/17 [==============================] - 0s 10ms/step - loss: 0.7930 - val_loss: 0.8971\n",
      "Epoch 93/100\n",
      "17/17 [==============================] - 0s 9ms/step - loss: 0.8202 - val_loss: 0.9430\n",
      "Epoch 94/100\n",
      "17/17 [==============================] - 0s 9ms/step - loss: 0.8045 - val_loss: 0.8981\n",
      "Epoch 95/100\n",
      "17/17 [==============================] - 0s 9ms/step - loss: 0.8006 - val_loss: 0.8716\n",
      "Epoch 96/100\n",
      "17/17 [==============================] - 0s 9ms/step - loss: 0.8030 - val_loss: 0.8610\n",
      "Epoch 97/100\n",
      "17/17 [==============================] - 0s 10ms/step - loss: 0.8096 - val_loss: 0.8580\n",
      "Epoch 98/100\n",
      "17/17 [==============================] - 0s 10ms/step - loss: 0.8034 - val_loss: 0.8574\n",
      "Epoch 99/100\n",
      "17/17 [==============================] - 0s 9ms/step - loss: 0.7938 - val_loss: 0.8672\n",
      "Epoch 100/100\n",
      "17/17 [==============================] - 0s 10ms/step - loss: 0.8052 - val_loss: 0.9196\n"
     ]
    }
   ],
   "source": [
    "history = net.fit(X_train, y_train, batch_size=32, epochs=100, validation_split=0.2)"
   ]
  },
  {
   "cell_type": "code",
   "execution_count": 8,
   "id": "b6016432",
   "metadata": {},
   "outputs": [
    {
     "name": "stdout",
     "output_type": "stream",
     "text": [
      "9/9 [==============================] - 0s 5ms/step - loss: 0.8583\n"
     ]
    },
    {
     "data": {
      "text/plain": [
       "0.8583014011383057"
      ]
     },
     "execution_count": 8,
     "metadata": {},
     "output_type": "execute_result"
    }
   ],
   "source": [
    "net.evaluate(X_test, y_test)"
   ]
  },
  {
   "cell_type": "code",
   "execution_count": 9,
   "id": "c9dcf9e0",
   "metadata": {},
   "outputs": [
    {
     "data": {
      "image/png": "[encoded data removed]",
      "text/plain": [
       "<Figure size 640x480 with 1 Axes>"
      ]
     },
     "metadata": {},
     "output_type": "display_data"
    }
   ],
   "source": [
    "plt.plot(history.history['loss'], label='loss')\n",
    "plt.plot(history.history['val_loss'], label='val_loss')\n",
    "plt.ylim([0, 2])\n",
    "plt.xlabel('Эпоха')\n",
    "plt.ylabel('MSE')\n",
    "plt.legend()\n",
    "plt.grid(True)"
   ]
  },
  {
   "cell_type": "code",
   "execution_count": 10,
   "id": "a8508ce5",
   "metadata": {},
   "outputs": [
    {
     "name": "stdout",
     "output_type": "stream",
     "text": [
      "9/9 [==============================] - 0s 5ms/step\n"
     ]
    },
    {
     "data": {
      "image/png": "[encoded data removed]",
      "text/plain": [
       "<Figure size 640x480 with 1 Axes>"
      ]
     },
     "metadata": {},
     "output_type": "display_data"
    }
   ],
   "source": [
    "predictions = net.predict(X_test).flatten()\n",
    "\n",
    "a = plt.axes(aspect='equal')\n",
    "plt.scatter(y_test, predictions)\n",
    "plt.xlabel('True Values')\n",
    "plt.ylabel('Predictions')\n",
    "lims = [0, 5]\n",
    "plt.xlim(lims)\n",
    "plt.ylim(lims)\n",
    "_ = plt.plot(lims, lims)"
   ]
  },
  {
   "cell_type": "code",
   "execution_count": 11,
   "id": "0a2f47d9",
   "metadata": {},
   "outputs": [
    {
     "data": {
      "image/png": "[encoded data removed]",
      "text/plain": [
       "<Figure size 640x480 with 1 Axes>"
      ]
     },
     "metadata": {},
     "output_type": "display_data"
    }
   ],
   "source": [
    "error = predictions - y_test\n",
    "plt.hist(error, bins=25)\n",
    "plt.xlabel('Prediction Error')\n",
    "_ = plt.ylabel('Count')"
   ]
  },
  {
   "cell_type": "code",
   "execution_count": 12,
   "id": "ceacc93b",
   "metadata": {},
   "outputs": [],
   "source": [
    "from sklearn.metrics import mean_absolute_error, mean_absolute_percentage_error"
   ]
  },
  {
   "cell_type": "code",
   "execution_count": 13,
   "id": "f645f11e",
   "metadata": {},
   "outputs": [
    {
     "name": "stdout",
     "output_type": "stream",
     "text": [
      "9/9 [==============================] - 0s 4ms/step\n",
      "Model_MAE:  1\n",
      "Model_MAE:  0.7640305374542619\n",
      "Model_MAPE: 0.30\n"
     ]
    }
   ],
   "source": [
    "y_pred_model = net.predict(X_test)\n",
    "print('Model_MAE: ', round(mean_absolute_error(y_test, y_pred_model)))\n",
    "print('Model_MAE: ', mean_absolute_error(y_test, y_pred_model))\n",
    "print('Model_MAPE: {:.2f}'.format(mean_absolute_percentage_error(y_test, y_pred_model)))"
   ]
  },
  {
   "cell_type": "markdown",
   "id": "0420d1f7",
   "metadata": {},
   "source": [
    "Обучим модель линейной регресии для сравнения результатов"
   ]
  },
  {
   "cell_type": "code",
   "execution_count": 14,
   "id": "86ba42cd",
   "metadata": {},
   "outputs": [],
   "source": [
    "from sklearn.linear_model import LinearRegression"
   ]
  },
  {
   "cell_type": "code",
   "execution_count": 15,
   "id": "bcca64ec",
   "metadata": {},
   "outputs": [
    {
     "data": {
      "text/html": [
       "<style>#sk-container-id-1 {color: black;}#sk-container-id-1 pre{padding: 0;}#sk-container-id-1 div.sk-toggleable {background-color: white;}#sk-container-id-1 label.sk-toggleable__label {cursor: pointer;display: block;width: 100%;margin-bottom: 0;padding: 0.3em;box-sizing: border-box;text-align: center;}#sk-container-id-1 label.sk-toggleable__label-arrow:before {content: \"▸\";float: left;margin-right: 0.25em;color: #696969;}#sk-container-id-1 label.sk-toggleable__label-arrow:hover:before {color: black;}#sk-container-id-1 div.sk-estimator:hover label.sk-toggleable__label-arrow:before {color: black;}#sk-container-id-1 div.sk-toggleable__content {max-height: 0;max-width: 0;overflow: hidden;text-align: left;background-color: #f0f8ff;}#sk-container-id-1 div.sk-toggleable__content pre {margin: 0.2em;color: black;border-radius: 0.25em;background-color: #f0f8ff;}#sk-container-id-1 input.sk-toggleable__control:checked~div.sk-toggleable__content {max-height: 200px;max-width: 100%;overflow: auto;}#sk-container-id-1 input.sk-toggleable__control:checked~label.sk-toggleable__label-arrow:before {content: \"▾\";}#sk-container-id-1 div.sk-estimator input.sk-toggleable__control:checked~label.sk-toggleable__label {background-color: #d4ebff;}#sk-container-id-1 div.sk-label input.sk-toggleable__control:checked~label.sk-toggleable__label {background-color: #d4ebff;}#sk-container-id-1 input.sk-hidden--visually {border: 0;clip: rect(1px 1px 1px 1px);clip: rect(1px, 1px, 1px, 1px);height: 1px;margin: -1px;overflow: hidden;padding: 0;position: absolute;width: 1px;}#sk-container-id-1 div.sk-estimator {font-family: monospace;background-color: #f0f8ff;border: 1px dotted black;border-radius: 0.25em;box-sizing: border-box;margin-bottom: 0.5em;}#sk-container-id-1 div.sk-estimator:hover {background-color: #d4ebff;}#sk-container-id-1 div.sk-parallel-item::after {content: \"\";width: 100%;border-bottom: 1px solid gray;flex-grow: 1;}#sk-container-id-1 div.sk-label:hover label.sk-toggleable__label {background-color: #d4ebff;}#sk-container-id-1 div.sk-serial::before {content: \"\";position: absolute;border-left: 1px solid gray;box-sizing: border-box;top: 0;bottom: 0;left: 50%;z-index: 0;}#sk-container-id-1 div.sk-serial {display: flex;flex-direction: column;align-items: center;background-color: white;padding-right: 0.2em;padding-left: 0.2em;position: relative;}#sk-container-id-1 div.sk-item {position: relative;z-index: 1;}#sk-container-id-1 div.sk-parallel {display: flex;align-items: stretch;justify-content: center;background-color: white;position: relative;}#sk-container-id-1 div.sk-item::before, #sk-container-id-1 div.sk-parallel-item::before {content: \"\";position: absolute;border-left: 1px solid gray;box-sizing: border-box;top: 0;bottom: 0;left: 50%;z-index: -1;}#sk-container-id-1 div.sk-parallel-item {display: flex;flex-direction: column;z-index: 1;position: relative;background-color: white;}#sk-container-id-1 div.sk-parallel-item:first-child::after {align-self: flex-end;width: 50%;}#sk-container-id-1 div.sk-parallel-item:last-child::after {align-self: flex-start;width: 50%;}#sk-container-id-1 div.sk-parallel-item:only-child::after {width: 0;}#sk-container-id-1 div.sk-dashed-wrapped {border: 1px dashed gray;margin: 0 0.4em 0.5em 0.4em;box-sizing: border-box;padding-bottom: 0.4em;background-color: white;}#sk-container-id-1 div.sk-label label {font-family: monospace;font-weight: bold;display: inline-block;line-height: 1.2em;}#sk-container-id-1 div.sk-label-container {text-align: center;}#sk-container-id-1 div.sk-container {/* jupyter's `normalize.less` sets `[hidden] { display: none; }` but bootstrap.min.css set `[hidden] { display: none !important; }` so we also need the `!important` here to be able to override the default hidden behavior on the sphinx rendered scikit-learn.org. See: https://github.com/scikit-learn/scikit-learn/issues/21755 */display: inline-block !important;position: relative;}#sk-container-id-1 div.sk-text-repr-fallback {display: none;}</style><div id=\"sk-container-id-1\" class=\"sk-top-container\"><div class=\"sk-text-repr-fallback\"><pre>LinearRegression()</pre><b>In a Jupyter environment, please rerun this cell to show the HTML representation or trust the notebook. <br />On GitHub, the HTML representation is unable to render, please try loading this page with nbviewer.org.</b></div><div class=\"sk-container\" hidden><div class=\"sk-item\"><div class=\"sk-estimator sk-toggleable\"><input class=\"sk-toggleable__control sk-hidden--visually\" id=\"sk-estimator-id-1\" type=\"checkbox\" checked><label for=\"sk-estimator-id-1\" class=\"sk-toggleable__label sk-toggleable__label-arrow\">LinearRegression</label><div class=\"sk-toggleable__content\"><pre>LinearRegression()</pre></div></div></div></div></div>"
      ],
      "text/plain": [
       "LinearRegression()"
      ]
     },
     "execution_count": 15,
     "metadata": {},
     "output_type": "execute_result"
    }
   ],
   "source": [
    "lnr = LinearRegression()\n",
    "lnr.fit(X_train, y_train)"
   ]
  },
  {
   "cell_type": "code",
   "execution_count": 16,
   "id": "f671be55",
   "metadata": {},
   "outputs": [
    {
     "name": "stdout",
     "output_type": "stream",
     "text": [
      "INFO:tensorflow:Assets written to: net\\assets\n"
     ]
    },
    {
     "name": "stderr",
     "output_type": "stream",
     "text": [
      "INFO:tensorflow:Assets written to: net\\assets\n"
     ]
    }
   ],
   "source": [
    "net.save('net')"
   ]
  },
  {
   "cell_type": "code",
   "execution_count": null,
   "id": "ab50b7d4",
   "metadata": {},
   "outputs": [],
   "source": []
  }
 ],
 "metadata": {
  "kernelspec": {
   "display_name": "Python 3 (ipykernel)",
   "language": "python",
   "name": "python3"
  },
  "language_info": {
   "codemirror_mode": {
    "name": "ipython",
    "version": 3
   },
   "file_extension": ".py",
   "mimetype": "text/x-python",
   "name": "python",
   "nbconvert_exporter": "python",
   "pygments_lexer": "ipython3",
   "version": "3.11.4"
  }
 },
 "nbformat": 4,
 "nbformat_minor": 5
}
